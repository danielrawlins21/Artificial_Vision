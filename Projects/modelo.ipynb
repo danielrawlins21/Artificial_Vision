{
 "cells": [
  {
   "cell_type": "code",
   "execution_count": 12,
   "metadata": {},
   "outputs": [],
   "source": [
    "import cv2\n",
    "import numpy as np\n",
    "import skimage.filters as filters"
   ]
  },
  {
   "cell_type": "code",
   "execution_count": 31,
   "metadata": {},
   "outputs": [],
   "source": [
    "def remove_noise(image_path, output_path):\n",
    "    # Lee la imagen\n",
    "    image = cv2.imread(image_path, cv2.IMREAD_GRAYSCALE)\n",
    "\n",
    "    # Aplica un desenfoque gaussiano para reducir el ruido\n",
    "    blurred = cv2.GaussianBlur(image, (1, 1), 0, borderType=cv2.BORDER_DEFAULT)\n",
    "\n",
    "    # division = cv2.divide(image, blurred, scale=255)\n",
    "\n",
    "    # sharp = filters.unsharp_mask(division, radius=1.5, amount=1.5, preserve_range=False)\n",
    "    # sharp = (255*sharp).clip(0,255).astype(np.uint8)\n",
    "\n",
    "    # Aplica umbral adaptativo para mejorar la visibilidad del texto\n",
    "    thresholded = cv2.adaptiveThreshold(blurred, 255, cv2.ADAPTIVE_THRESH_MEAN_C, cv2.THRESH_BINARY, 11, 2)\n",
    "\n",
    "    # Guarda la imagen procesada\n",
    "    cv2.imwrite(output_path, thresholded)\n",
    "\n",
    "    print(f\"Se ha eliminado el ruido de {image_path}. La imagen procesada se ha guardado como {output_path}.\")"
   ]
  },
  {
   "cell_type": "code",
   "execution_count": 34,
   "metadata": {},
   "outputs": [
    {
     "name": "stdout",
     "output_type": "stream",
     "text": [
      "Se ha eliminado el ruido de images/Articulo10.png. La imagen procesada se ha guardado como images/Articulo10_procesada.jpg.\n"
     ]
    }
   ],
   "source": [
    "# Ejemplo de uso: elimina el ruido de \"imagen_entrada.jpg\" y guarda como \"imagen_procesada.jpg\"\n",
    "# remove_noise(\"images/Articulo 7.png\", \"images/Articulo7_procesada.jpg\")\n",
    "# remove_noise(\"images/Articulo3.png\", \"images/Articulo3_procesada.jpg\")\n",
    "remove_noise(\"images/Articulo10.png\", \"images/Articulo10_procesada.jpg\")"
   ]
  },
  {
   "cell_type": "code",
   "execution_count": null,
   "metadata": {},
   "outputs": [],
   "source": []
  }
 ],
 "metadata": {
  "kernelspec": {
   "display_name": "env",
   "language": "python",
   "name": "python3"
  },
  "language_info": {
   "codemirror_mode": {
    "name": "ipython",
    "version": 3
   },
   "file_extension": ".py",
   "mimetype": "text/x-python",
   "name": "python",
   "nbconvert_exporter": "python",
   "pygments_lexer": "ipython3",
   "version": "3.11.8"
  }
 },
 "nbformat": 4,
 "nbformat_minor": 2
}
