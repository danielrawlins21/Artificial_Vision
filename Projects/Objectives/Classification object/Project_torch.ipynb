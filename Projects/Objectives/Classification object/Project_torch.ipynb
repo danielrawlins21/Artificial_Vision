{
 "cells": [
  {
   "cell_type": "code",
   "execution_count": 2,
   "metadata": {},
   "outputs": [
    {
     "name": "stdout",
     "output_type": "stream",
     "text": [
      "Running on cuda.\n"
     ]
    },
    {
     "data": {
      "text/plain": [
       "device(type='cuda')"
      ]
     },
     "execution_count": 2,
     "metadata": {},
     "output_type": "execute_result"
    }
   ],
   "source": [
    "# Import Torch\n",
    "import torch \n",
    "import torchvision\n",
    "import torchvision.transforms as transforms\n",
    "import torch.nn as nn\n",
    "import torch.nn.functional as F\n",
    "import torch.optim as optim\n",
    "\n",
    "# Support libraries \n",
    "import matplotlib.pyplot as plt\n",
    "import numpy as np\n",
    "\n",
    "# For reporducibility\n",
    "torch.manual_seed(42)\n",
    "np.random.seed(42)\n",
    "\n",
    "# using Gpu device if it's available\n",
    "device = torch.device(\"cuda\" if torch.cuda.is_available() else \"cpu\")\n",
    "print(f\"Running on {device}.\")\n",
    "device\n"
   ]
  },
  {
   "cell_type": "code",
   "execution_count": 7,
   "metadata": {},
   "outputs": [],
   "source": [
    "import torch.utils.data as data"
   ]
  },
  {
   "cell_type": "code",
   "execution_count": 9,
   "metadata": {},
   "outputs": [],
   "source": [
    "# Defining a transformation pipeline\n",
    "transform = transforms.Compose([transforms.ToTensor()])\n",
    "\n",
    "# We'll use torchvision to load Fashion MNIST trainset\n",
    "trainset_data = torchvision.datasets.FashionMNIST(root='./data',\n",
    "                                                  train=True,\n",
    "                                                  download=True,\n",
    "                                                  transform=transform)\n",
    "# Create a data loader for trainset\n",
    "train_load = data.DataLoader(trainset_data, batch_size=4, shuffle=True, num_workers=2)\n",
    "\n",
    "# Similarly, load the testset of Fashion MNIST\n",
    "testset_data = torchvision.datasets.FashionMNIST(root='./data',\n",
    "                                                  train=False,\n",
    "                                                  download=True,\n",
    "                                                  transform=transform)\n",
    "# Create a data loader for testset\n",
    "test_load = data.DataLoader(testset_data, batch_size=4, shuffle=True, num_workers=2)\n",
    "\n",
    "# We save the respective output of the neuron and the name of each classes\n",
    "class_names = ['T-shirt/top','Trouser','Pullover','Dress','Coat',\n",
    "               'Sandal', 'Shirt', 'Sneaker','Bag','Ankle boot']"
   ]
  },
  {
   "cell_type": "code",
   "execution_count": null,
   "metadata": {},
   "outputs": [],
   "source": []
  }
 ],
 "metadata": {
  "kernelspec": {
   "display_name": "Python 3",
   "language": "python",
   "name": "python3"
  },
  "language_info": {
   "codemirror_mode": {
    "name": "ipython",
    "version": 3
   },
   "file_extension": ".py",
   "mimetype": "text/x-python",
   "name": "python",
   "nbconvert_exporter": "python",
   "pygments_lexer": "ipython3",
   "version": "3.11.8"
  }
 },
 "nbformat": 4,
 "nbformat_minor": 2
}
